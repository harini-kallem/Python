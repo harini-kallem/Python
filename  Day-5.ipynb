{
 "cells": [
  {
   "cell_type": "code",
   "execution_count": 1,
   "id": "b534fb7d",
   "metadata": {},
   "outputs": [
    {
     "name": "stdout",
     "output_type": "stream",
     "text": [
      "Enter a positive integer: 3\n",
      "Numbers from 1 to 3 :\n",
      "1\n",
      "2\n",
      "3\n",
      "The sum of all numbers from 1 to 3 is: 6\n"
     ]
    }
   ],
   "source": [
    "n = int(input(\"Enter a positive integer: \"))\n",
    "if n <= 0:\n",
    "    print(\"Please enter a positive integer.\")\n",
    "else:\n",
    "    print(\"Numbers from 1 to\", n, \":\")\n",
    "    for i in range(1, n + 1):\n",
    "        print(i)\n",
    "    total_sum = 0\n",
    "    counter = 1\n",
    "    while counter <= n:\n",
    "        total_sum += counter\n",
    "        counter += 1\n",
    "    print(\"The sum of all numbers from 1 to\", n, \"is:\", total_sum)"
   ]
  },
  {
   "cell_type": "code",
   "execution_count": 2,
   "id": "e0c5a361",
   "metadata": {},
   "outputs": [
    {
     "name": "stdout",
     "output_type": "stream",
     "text": [
      "Enter a positive integer: 5\n",
      "The square of 5 is: 25\n"
     ]
    }
   ],
   "source": [
    "def calculate_square(n):\n",
    "    return n * n\n",
    "try:\n",
    "    number = int(input(\"Enter a positive integer: \"))\n",
    "    if number <= 0:\n",
    "        print(\"Please enter a positive integer.\")\n",
    "    else:\n",
    "        result = calculate_square(number)\n",
    "        print(f\"The square of {number} is: {result}\")\n",
    "\n",
    "except ValueError:\n",
    "    print(\"Invalid input. Please enter a valid positive integer.\")"
   ]
  },
  {
   "cell_type": "code",
   "execution_count": null,
   "id": "ed347efb",
   "metadata": {},
   "outputs": [],
   "source": []
  }
 ],
 "metadata": {
  "kernelspec": {
   "display_name": "Python 3 (ipykernel)",
   "language": "python",
   "name": "python3"
  },
  "language_info": {
   "codemirror_mode": {
    "name": "ipython",
    "version": 3
   },
   "file_extension": ".py",
   "mimetype": "text/x-python",
   "name": "python",
   "nbconvert_exporter": "python",
   "pygments_lexer": "ipython3",
   "version": "3.11.5"
  }
 },
 "nbformat": 4,
 "nbformat_minor": 5
}
