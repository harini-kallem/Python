{
 "cells": [
  {
   "cell_type": "code",
   "execution_count": 2,
   "id": "d53eb3a9",
   "metadata": {},
   "outputs": [
    {
     "name": "stdout",
     "output_type": "stream",
     "text": [
      "Enter marks for subject 1: 40\n",
      "Enter marks for subject 2: 60\n",
      "Enter marks for subject 3: 90\n"
     ]
    },
    {
     "data": {
      "text/plain": [
       "'Fail'"
      ]
     },
     "execution_count": 2,
     "metadata": {},
     "output_type": "execute_result"
    }
   ],
   "source": [
    "marks1 = float(input(\"Enter marks for subject 1: \"))\n",
    "marks2 = float(input(\"Enter marks for subject 2: \"))\n",
    "marks3 = float(input(\"Enter marks for subject 3: \"))\n",
    "average = (marks1 + marks2 + marks3) / 3\n",
    "if average >= 90:\n",
    "    grade = \"A\"\n",
    "elif 80 <= average < 90:\n",
    "    grade = \"B\"\n",
    "elif 70 <= average < 80:\n",
    "    grade = \"C\"\n",
    "else:\n",
    "    grade = \"Fail\"\n",
    "grade"
   ]
  },
  {
   "cell_type": "code",
   "execution_count": null,
   "id": "c979e272",
   "metadata": {},
   "outputs": [],
   "source": []
  }
 ],
 "metadata": {
  "kernelspec": {
   "display_name": "Python 3 (ipykernel)",
   "language": "python",
   "name": "python3"
  },
  "language_info": {
   "codemirror_mode": {
    "name": "ipython",
    "version": 3
   },
   "file_extension": ".py",
   "mimetype": "text/x-python",
   "name": "python",
   "nbconvert_exporter": "python",
   "pygments_lexer": "ipython3",
   "version": "3.11.5"
  }
 },
 "nbformat": 4,
 "nbformat_minor": 5
}
