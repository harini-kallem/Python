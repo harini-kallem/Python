{
 "cells": [
  {
   "cell_type": "code",
   "execution_count": 1,
   "id": "67107033",
   "metadata": {},
   "outputs": [
    {
     "name": "stdout",
     "output_type": "stream",
     "text": [
      "Integer Variable: 10 Type: <class 'int'>\n",
      "Float Variable: 10.5 Type: <class 'float'>\n",
      "String Variable: Hello! Type: <class 'str'>\n",
      "Boolean Variable: True Type: <class 'bool'>\n"
     ]
    }
   ],
   "source": [
    "integer_variable = 10          \n",
    "float_variable = 10.5         \n",
    "string_variable = \"Hello!\"     \n",
    "boolean_variable = True        \n",
    "print(\"Integer Variable:\", integer_variable, \"Type:\", type(integer_variable))\n",
    "print(\"Float Variable:\", float_variable, \"Type:\", type(float_variable))\n",
    "print(\"String Variable:\", string_variable, \"Type:\", type(string_variable))\n",
    "print(\"Boolean Variable:\", boolean_variable, \"Type:\", type(boolean_variable))"
   ]
  },
  {
   "cell_type": "code",
   "execution_count": null,
   "id": "27d536ef",
   "metadata": {},
   "outputs": [],
   "source": []
  }
 ],
 "metadata": {
  "kernelspec": {
   "display_name": "Python 3 (ipykernel)",
   "language": "python",
   "name": "python3"
  },
  "language_info": {
   "codemirror_mode": {
    "name": "ipython",
    "version": 3
   },
   "file_extension": ".py",
   "mimetype": "text/x-python",
   "name": "python",
   "nbconvert_exporter": "python",
   "pygments_lexer": "ipython3",
   "version": "3.11.5"
  }
 },
 "nbformat": 4,
 "nbformat_minor": 5
}
