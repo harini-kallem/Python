{
 "cells": [
  {
   "cell_type": "code",
   "execution_count": 1,
   "id": "504705e0",
   "metadata": {
    "scrolled": true
   },
   "outputs": [
    {
     "data": {
      "text/plain": [
       "4"
      ]
     },
     "execution_count": 1,
     "metadata": {},
     "output_type": "execute_result"
    }
   ],
   "source": [
    "a=4\n",
    "a"
   ]
  },
  {
   "cell_type": "code",
   "execution_count": 2,
   "id": "1b55392a",
   "metadata": {},
   "outputs": [
    {
     "data": {
      "text/plain": [
       "'mallareddy'"
      ]
     },
     "execution_count": 2,
     "metadata": {},
     "output_type": "execute_result"
    }
   ],
   "source": [
    "b='mallareddy'\n",
    "b"
   ]
  },
  {
   "cell_type": "code",
   "execution_count": 3,
   "id": "29ed9567",
   "metadata": {},
   "outputs": [
    {
     "data": {
      "text/plain": [
       "(7+8j)"
      ]
     },
     "execution_count": 3,
     "metadata": {},
     "output_type": "execute_result"
    }
   ],
   "source": [
    "c=7+8j\n",
    "c"
   ]
  },
  {
   "cell_type": "code",
   "execution_count": 4,
   "id": "463d87c0",
   "metadata": {},
   "outputs": [
    {
     "data": {
      "text/plain": [
       "complex"
      ]
     },
     "execution_count": 4,
     "metadata": {},
     "output_type": "execute_result"
    }
   ],
   "source": [
    "type(c)"
   ]
  },
  {
   "cell_type": "code",
   "execution_count": 5,
   "id": "e9d3a4c5",
   "metadata": {},
   "outputs": [
    {
     "data": {
      "text/plain": [
       "True"
      ]
     },
     "execution_count": 5,
     "metadata": {},
     "output_type": "execute_result"
    }
   ],
   "source": [
    "d=True\n",
    "d"
   ]
  },
  {
   "cell_type": "code",
   "execution_count": 6,
   "id": "0304f045",
   "metadata": {},
   "outputs": [
    {
     "data": {
      "text/plain": [
       "bool"
      ]
     },
     "execution_count": 6,
     "metadata": {},
     "output_type": "execute_result"
    }
   ],
   "source": [
    "type(d)"
   ]
  },
  {
   "cell_type": "code",
   "execution_count": 7,
   "id": "c2828df8",
   "metadata": {},
   "outputs": [
    {
     "data": {
      "text/plain": [
       "int"
      ]
     },
     "execution_count": 7,
     "metadata": {},
     "output_type": "execute_result"
    }
   ],
   "source": [
    "type(a)"
   ]
  },
  {
   "cell_type": "code",
   "execution_count": 8,
   "id": "65484c5d",
   "metadata": {
    "scrolled": true
   },
   "outputs": [
    {
     "data": {
      "text/plain": [
       "str"
      ]
     },
     "execution_count": 8,
     "metadata": {},
     "output_type": "execute_result"
    }
   ],
   "source": [
    "type(b)"
   ]
  },
  {
   "cell_type": "code",
   "execution_count": 9,
   "id": "c585632a",
   "metadata": {},
   "outputs": [
    {
     "data": {
      "text/plain": [
       "False"
      ]
     },
     "execution_count": 9,
     "metadata": {},
     "output_type": "execute_result"
    }
   ],
   "source": [
    "t=False\n",
    "t"
   ]
  },
  {
   "cell_type": "code",
   "execution_count": 10,
   "id": "8d40ef32",
   "metadata": {},
   "outputs": [
    {
     "data": {
      "text/plain": [
       "bool"
      ]
     },
     "execution_count": 10,
     "metadata": {},
     "output_type": "execute_result"
    }
   ],
   "source": [
    "type(t)"
   ]
  },
  {
   "cell_type": "code",
   "execution_count": 11,
   "id": "5e6e799e",
   "metadata": {},
   "outputs": [
    {
     "data": {
      "text/plain": [
       "32.76"
      ]
     },
     "execution_count": 11,
     "metadata": {},
     "output_type": "execute_result"
    }
   ],
   "source": [
    "q=32.76\n",
    "q"
   ]
  },
  {
   "cell_type": "code",
   "execution_count": 12,
   "id": "1cc1dfab",
   "metadata": {},
   "outputs": [
    {
     "data": {
      "text/plain": [
       "float"
      ]
     },
     "execution_count": 12,
     "metadata": {},
     "output_type": "execute_result"
    }
   ],
   "source": [
    "type(q)"
   ]
  },
  {
   "cell_type": "code",
   "execution_count": 13,
   "id": "f68d194d",
   "metadata": {},
   "outputs": [
    {
     "data": {
      "text/plain": [
       "460"
      ]
     },
     "execution_count": 13,
     "metadata": {},
     "output_type": "execute_result"
    }
   ],
   "source": [
    "a=10\n",
    "b=20\n",
    "c=30\n",
    "d=40\n",
    "e=50\n",
    "f=60\n",
    "g=70\n",
    "h=80\n",
    "i=90\n",
    "j=10\n",
    "a+b+c+d+e+f+g+h+i+j"
   ]
  },
  {
   "cell_type": "code",
   "execution_count": 14,
   "id": "163fcb6e",
   "metadata": {},
   "outputs": [
    {
     "data": {
      "text/plain": [
       "'applebananacatdogeggfishgrapeshatmangoorange'"
      ]
     },
     "execution_count": 14,
     "metadata": {},
     "output_type": "execute_result"
    }
   ],
   "source": [
    "a='apple'\n",
    "b='banana'\n",
    "c='cat'\n",
    "d='dog'\n",
    "e='egg'\n",
    "f='fish'\n",
    "g='grapes'\n",
    "h='hat'\n",
    "i='mango'\n",
    "j='orange'\n",
    "a+b+c+d+e+f+g+h+i+j"
   ]
  },
  {
   "cell_type": "code",
   "execution_count": 15,
   "id": "1964aa62",
   "metadata": {},
   "outputs": [],
   "source": [
    "### addition +\n",
    "### substraction -\n",
    "### multiplication *\n",
    "### division /\n",
    "### remainder %\n",
    "### power **\n",
    "### // floor divicion"
   ]
  },
  {
   "cell_type": "code",
   "execution_count": 16,
   "id": "e7430118",
   "metadata": {},
   "outputs": [],
   "source": [
    "a=109\n",
    "b=30"
   ]
  },
  {
   "cell_type": "code",
   "execution_count": 17,
   "id": "b3665bb6",
   "metadata": {},
   "outputs": [
    {
     "data": {
      "text/plain": [
       "139"
      ]
     },
     "execution_count": 17,
     "metadata": {},
     "output_type": "execute_result"
    }
   ],
   "source": [
    "c= a+b\n",
    "c"
   ]
  },
  {
   "cell_type": "code",
   "execution_count": 18,
   "id": "066b7ff5",
   "metadata": {
    "scrolled": true
   },
   "outputs": [
    {
     "data": {
      "text/plain": [
       "int"
      ]
     },
     "execution_count": 18,
     "metadata": {},
     "output_type": "execute_result"
    }
   ],
   "source": [
    "type(c)"
   ]
  },
  {
   "cell_type": "code",
   "execution_count": 19,
   "id": "63b1723f",
   "metadata": {},
   "outputs": [
    {
     "data": {
      "text/plain": [
       "79"
      ]
     },
     "execution_count": 19,
     "metadata": {},
     "output_type": "execute_result"
    }
   ],
   "source": [
    "d= a-b\n",
    "d"
   ]
  },
  {
   "cell_type": "code",
   "execution_count": 20,
   "id": "7124833c",
   "metadata": {},
   "outputs": [
    {
     "data": {
      "text/plain": [
       "int"
      ]
     },
     "execution_count": 20,
     "metadata": {},
     "output_type": "execute_result"
    }
   ],
   "source": [
    "type(d)"
   ]
  },
  {
   "cell_type": "code",
   "execution_count": 21,
   "id": "103570cb",
   "metadata": {},
   "outputs": [
    {
     "data": {
      "text/plain": [
       "3270"
      ]
     },
     "execution_count": 21,
     "metadata": {},
     "output_type": "execute_result"
    }
   ],
   "source": [
    "e= a*b\n",
    "e"
   ]
  },
  {
   "cell_type": "code",
   "execution_count": 22,
   "id": "77f6f3f3",
   "metadata": {},
   "outputs": [
    {
     "data": {
      "text/plain": [
       "int"
      ]
     },
     "execution_count": 22,
     "metadata": {},
     "output_type": "execute_result"
    }
   ],
   "source": [
    "type(e)"
   ]
  },
  {
   "cell_type": "code",
   "execution_count": 23,
   "id": "4ab2c841",
   "metadata": {},
   "outputs": [
    {
     "data": {
      "text/plain": [
       "3.6333333333333333"
      ]
     },
     "execution_count": 23,
     "metadata": {},
     "output_type": "execute_result"
    }
   ],
   "source": [
    "f= a/b\n",
    "f"
   ]
  },
  {
   "cell_type": "code",
   "execution_count": 24,
   "id": "be9aea32",
   "metadata": {},
   "outputs": [
    {
     "data": {
      "text/plain": [
       "float"
      ]
     },
     "execution_count": 24,
     "metadata": {},
     "output_type": "execute_result"
    }
   ],
   "source": [
    "type(f)"
   ]
  },
  {
   "cell_type": "code",
   "execution_count": 25,
   "id": "6d0db174",
   "metadata": {},
   "outputs": [
    {
     "data": {
      "text/plain": [
       "19"
      ]
     },
     "execution_count": 25,
     "metadata": {},
     "output_type": "execute_result"
    }
   ],
   "source": [
    "g= a%b\n",
    "g"
   ]
  },
  {
   "cell_type": "code",
   "execution_count": 26,
   "id": "4790d3b8",
   "metadata": {},
   "outputs": [
    {
     "data": {
      "text/plain": [
       "int"
      ]
     },
     "execution_count": 26,
     "metadata": {},
     "output_type": "execute_result"
    }
   ],
   "source": [
    "type(g)"
   ]
  },
  {
   "cell_type": "code",
   "execution_count": 27,
   "id": "36f783a5",
   "metadata": {},
   "outputs": [
    {
     "data": {
      "text/plain": [
       "13267678469131246220534960856572201266909465533192540861850201"
      ]
     },
     "execution_count": 27,
     "metadata": {},
     "output_type": "execute_result"
    }
   ],
   "source": [
    "h= a**b\n",
    "h"
   ]
  },
  {
   "cell_type": "code",
   "execution_count": 28,
   "id": "353b1a32",
   "metadata": {},
   "outputs": [
    {
     "data": {
      "text/plain": [
       "int"
      ]
     },
     "execution_count": 28,
     "metadata": {},
     "output_type": "execute_result"
    }
   ],
   "source": [
    "type(h)"
   ]
  },
  {
   "cell_type": "code",
   "execution_count": 29,
   "id": "bfb8729f",
   "metadata": {},
   "outputs": [
    {
     "data": {
      "text/plain": [
       "3"
      ]
     },
     "execution_count": 29,
     "metadata": {},
     "output_type": "execute_result"
    }
   ],
   "source": [
    "i= a//b\n",
    "i"
   ]
  },
  {
   "cell_type": "code",
   "execution_count": 30,
   "id": "141201c8",
   "metadata": {},
   "outputs": [
    {
     "data": {
      "text/plain": [
       "int"
      ]
     },
     "execution_count": 30,
     "metadata": {},
     "output_type": "execute_result"
    }
   ],
   "source": [
    "type(i)"
   ]
  },
  {
   "cell_type": "code",
   "execution_count": 31,
   "id": "99dea1c0",
   "metadata": {},
   "outputs": [],
   "source": [
    " # > < >= <= == !="
   ]
  },
  {
   "cell_type": "code",
   "execution_count": 32,
   "id": "31fab67a",
   "metadata": {},
   "outputs": [],
   "source": [
    "a=58\n",
    "b=76"
   ]
  },
  {
   "cell_type": "code",
   "execution_count": 33,
   "id": "cb30001d",
   "metadata": {},
   "outputs": [
    {
     "data": {
      "text/plain": [
       "False"
      ]
     },
     "execution_count": 33,
     "metadata": {},
     "output_type": "execute_result"
    }
   ],
   "source": [
    "a>b"
   ]
  },
  {
   "cell_type": "code",
   "execution_count": 34,
   "id": "204bdf60",
   "metadata": {},
   "outputs": [
    {
     "data": {
      "text/plain": [
       "True"
      ]
     },
     "execution_count": 34,
     "metadata": {},
     "output_type": "execute_result"
    }
   ],
   "source": [
    "a<b"
   ]
  },
  {
   "cell_type": "code",
   "execution_count": 35,
   "id": "55713293",
   "metadata": {},
   "outputs": [
    {
     "data": {
      "text/plain": [
       "False"
      ]
     },
     "execution_count": 35,
     "metadata": {},
     "output_type": "execute_result"
    }
   ],
   "source": [
    "a>=b"
   ]
  },
  {
   "cell_type": "code",
   "execution_count": 36,
   "id": "67efef4d",
   "metadata": {},
   "outputs": [
    {
     "data": {
      "text/plain": [
       "True"
      ]
     },
     "execution_count": 36,
     "metadata": {},
     "output_type": "execute_result"
    }
   ],
   "source": [
    "a<=b"
   ]
  },
  {
   "cell_type": "code",
   "execution_count": 37,
   "id": "2100d691",
   "metadata": {},
   "outputs": [
    {
     "data": {
      "text/plain": [
       "False"
      ]
     },
     "execution_count": 37,
     "metadata": {},
     "output_type": "execute_result"
    }
   ],
   "source": [
    "a==b"
   ]
  },
  {
   "cell_type": "code",
   "execution_count": 38,
   "id": "60e958d6",
   "metadata": {},
   "outputs": [
    {
     "data": {
      "text/plain": [
       "True"
      ]
     },
     "execution_count": 38,
     "metadata": {},
     "output_type": "execute_result"
    }
   ],
   "source": [
    "a!=b"
   ]
  },
  {
   "cell_type": "code",
   "execution_count": 39,
   "id": "c098bbf6",
   "metadata": {},
   "outputs": [],
   "source": [
    "# logical operators\n",
    "#and \n",
    "#or\n",
    "#not"
   ]
  },
  {
   "cell_type": "code",
   "execution_count": 40,
   "id": "3212a293",
   "metadata": {},
   "outputs": [],
   "source": [
    "c=8.5"
   ]
  },
  {
   "cell_type": "code",
   "execution_count": 41,
   "id": "f8f4d6bf",
   "metadata": {},
   "outputs": [
    {
     "data": {
      "text/plain": [
       "True"
      ]
     },
     "execution_count": 41,
     "metadata": {},
     "output_type": "execute_result"
    }
   ],
   "source": [
    "c>=8.4"
   ]
  },
  {
   "cell_type": "code",
   "execution_count": 42,
   "id": "ff071972",
   "metadata": {},
   "outputs": [
    {
     "data": {
      "text/plain": [
       "True"
      ]
     },
     "execution_count": 42,
     "metadata": {},
     "output_type": "execute_result"
    }
   ],
   "source": [
    "c<=9.0"
   ]
  },
  {
   "cell_type": "code",
   "execution_count": 43,
   "id": "610e837a",
   "metadata": {},
   "outputs": [],
   "source": [
    "cgpa=9.0"
   ]
  },
  {
   "cell_type": "code",
   "execution_count": 44,
   "id": "daf9953f",
   "metadata": {},
   "outputs": [
    {
     "data": {
      "text/plain": [
       "True"
      ]
     },
     "execution_count": 44,
     "metadata": {},
     "output_type": "execute_result"
    }
   ],
   "source": [
    "cgpa>=8.1 and cgpa<=9.0         #A grade"
   ]
  },
  {
   "cell_type": "code",
   "execution_count": 45,
   "id": "35a345c9",
   "metadata": {},
   "outputs": [
    {
     "data": {
      "text/plain": [
       "False"
      ]
     },
     "execution_count": 45,
     "metadata": {},
     "output_type": "execute_result"
    }
   ],
   "source": [
    "cgpa>=7.1 and cgpa<=8.0         #B grade"
   ]
  },
  {
   "cell_type": "code",
   "execution_count": 46,
   "id": "02219ce2",
   "metadata": {},
   "outputs": [
    {
     "data": {
      "text/plain": [
       "False"
      ]
     },
     "execution_count": 46,
     "metadata": {},
     "output_type": "execute_result"
    }
   ],
   "source": [
    "cgpa>=6.1 and cgpa<=7.0         #C grade"
   ]
  },
  {
   "cell_type": "code",
   "execution_count": 47,
   "id": "d9cd638c",
   "metadata": {},
   "outputs": [
    {
     "data": {
      "text/plain": [
       "False"
      ]
     },
     "execution_count": 47,
     "metadata": {},
     "output_type": "execute_result"
    }
   ],
   "source": [
    "cgpa>=5.1 and cgpa<=6.0         #D grade"
   ]
  },
  {
   "cell_type": "code",
   "execution_count": 48,
   "id": "751983ab",
   "metadata": {},
   "outputs": [
    {
     "data": {
      "text/plain": [
       "[24, 56, 67, 78, 90]"
      ]
     },
     "execution_count": 48,
     "metadata": {},
     "output_type": "execute_result"
    }
   ],
   "source": [
    "a=[24,56,67,78,90]\n",
    "a"
   ]
  },
  {
   "cell_type": "code",
   "execution_count": 49,
   "id": "5e79e0e9",
   "metadata": {},
   "outputs": [
    {
     "data": {
      "text/plain": [
       "list"
      ]
     },
     "execution_count": 49,
     "metadata": {},
     "output_type": "execute_result"
    }
   ],
   "source": [
    "type(a)"
   ]
  },
  {
   "cell_type": "code",
   "execution_count": 50,
   "id": "1af3d857",
   "metadata": {},
   "outputs": [
    {
     "data": {
      "text/plain": [
       "['apple', False, 90, 45.6, True, 'orange']"
      ]
     },
     "execution_count": 50,
     "metadata": {},
     "output_type": "execute_result"
    }
   ],
   "source": [
    "c=['apple',False,90,45.6,True,'orange']\n",
    "c"
   ]
  },
  {
   "cell_type": "code",
   "execution_count": 51,
   "id": "bee5d8e0",
   "metadata": {},
   "outputs": [
    {
     "data": {
      "text/plain": [
       "list"
      ]
     },
     "execution_count": 51,
     "metadata": {},
     "output_type": "execute_result"
    }
   ],
   "source": [
    "type(c)"
   ]
  },
  {
   "cell_type": "code",
   "execution_count": 52,
   "id": "71f343df",
   "metadata": {},
   "outputs": [
    {
     "data": {
      "text/plain": [
       "False"
      ]
     },
     "execution_count": 52,
     "metadata": {},
     "output_type": "execute_result"
    }
   ],
   "source": [
    "c[1]"
   ]
  },
  {
   "cell_type": "code",
   "execution_count": 53,
   "id": "c7fa1c37",
   "metadata": {},
   "outputs": [
    {
     "data": {
      "text/plain": [
       "'apple'"
      ]
     },
     "execution_count": 53,
     "metadata": {},
     "output_type": "execute_result"
    }
   ],
   "source": [
    "c[0]"
   ]
  },
  {
   "cell_type": "code",
   "execution_count": 54,
   "id": "e7c62632",
   "metadata": {},
   "outputs": [
    {
     "data": {
      "text/plain": [
       "'orange'"
      ]
     },
     "execution_count": 54,
     "metadata": {},
     "output_type": "execute_result"
    }
   ],
   "source": [
    "c[-1]"
   ]
  },
  {
   "cell_type": "code",
   "execution_count": 55,
   "id": "62c609bc",
   "metadata": {},
   "outputs": [
    {
     "data": {
      "text/plain": [
       "str"
      ]
     },
     "execution_count": 55,
     "metadata": {},
     "output_type": "execute_result"
    }
   ],
   "source": [
    "type(c[0])"
   ]
  },
  {
   "cell_type": "code",
   "execution_count": 56,
   "id": "01aa2f4e",
   "metadata": {},
   "outputs": [
    {
     "data": {
      "text/plain": [
       "['apple', True]"
      ]
     },
     "execution_count": 56,
     "metadata": {},
     "output_type": "execute_result"
    }
   ],
   "source": [
    "c[0::4]"
   ]
  },
  {
   "cell_type": "code",
   "execution_count": 57,
   "id": "58048ff1",
   "metadata": {},
   "outputs": [
    {
     "data": {
      "text/plain": [
       "[90, 45.6, True]"
      ]
     },
     "execution_count": 57,
     "metadata": {},
     "output_type": "execute_result"
    }
   ],
   "source": [
    "c[-4:-1]"
   ]
  },
  {
   "cell_type": "code",
   "execution_count": 58,
   "id": "a86dd425",
   "metadata": {},
   "outputs": [
    {
     "data": {
      "text/plain": [
       "bool"
      ]
     },
     "execution_count": 58,
     "metadata": {},
     "output_type": "execute_result"
    }
   ],
   "source": [
    "type(c[-2])"
   ]
  },
  {
   "cell_type": "code",
   "execution_count": 59,
   "id": "4d2ece03",
   "metadata": {},
   "outputs": [
    {
     "data": {
      "text/plain": [
       "[False, 90, 45.6, True]"
      ]
     },
     "execution_count": 59,
     "metadata": {},
     "output_type": "execute_result"
    }
   ],
   "source": [
    "c[-5:-1]"
   ]
  },
  {
   "cell_type": "code",
   "execution_count": 60,
   "id": "c1061181",
   "metadata": {},
   "outputs": [
    {
     "data": {
      "text/plain": [
       "[]"
      ]
     },
     "execution_count": 60,
     "metadata": {},
     "output_type": "execute_result"
    }
   ],
   "source": [
    "c[0:1:-1]"
   ]
  },
  {
   "cell_type": "code",
   "execution_count": 61,
   "id": "cbe55ef1",
   "metadata": {},
   "outputs": [
    {
     "data": {
      "text/plain": [
       "[203, 'Hyderabad', 45, True, False, 78, 175, 34.9]"
      ]
     },
     "execution_count": 61,
     "metadata": {},
     "output_type": "execute_result"
    }
   ],
   "source": [
    "d=[203,'Hyderabad',45,True,False,78,175,34.9]\n",
    "d"
   ]
  },
  {
   "cell_type": "code",
   "execution_count": 62,
   "id": "6e7aa5df",
   "metadata": {},
   "outputs": [
    {
     "data": {
      "text/plain": [
       "203"
      ]
     },
     "execution_count": 62,
     "metadata": {},
     "output_type": "execute_result"
    }
   ],
   "source": [
    "d[0]"
   ]
  },
  {
   "cell_type": "code",
   "execution_count": 63,
   "id": "0fd85e82",
   "metadata": {},
   "outputs": [
    {
     "data": {
      "text/plain": [
       "[203, 45, False, 175]"
      ]
     },
     "execution_count": 63,
     "metadata": {},
     "output_type": "execute_result"
    }
   ],
   "source": [
    "d[0::2]"
   ]
  },
  {
   "cell_type": "code",
   "execution_count": 64,
   "id": "9690355e",
   "metadata": {},
   "outputs": [
    {
     "data": {
      "text/plain": [
       "[203, 'Hyderabad', 45, True, False]"
      ]
     },
     "execution_count": 64,
     "metadata": {},
     "output_type": "execute_result"
    }
   ],
   "source": [
    "d[0:5]"
   ]
  },
  {
   "cell_type": "code",
   "execution_count": 65,
   "id": "1e62b123",
   "metadata": {},
   "outputs": [
    {
     "data": {
      "text/plain": [
       "34.9"
      ]
     },
     "execution_count": 65,
     "metadata": {},
     "output_type": "execute_result"
    }
   ],
   "source": [
    "d[-1]"
   ]
  },
  {
   "cell_type": "code",
   "execution_count": 66,
   "id": "dcf4b4aa",
   "metadata": {},
   "outputs": [
    {
     "data": {
      "text/plain": [
       "[34.9, False, 'Hyderabad']"
      ]
     },
     "execution_count": 66,
     "metadata": {},
     "output_type": "execute_result"
    }
   ],
   "source": [
    "d[-1::-3]"
   ]
  },
  {
   "cell_type": "code",
   "execution_count": 67,
   "id": "5501839d",
   "metadata": {},
   "outputs": [
    {
     "data": {
      "text/plain": [
       "[45]"
      ]
     },
     "execution_count": 67,
     "metadata": {},
     "output_type": "execute_result"
    }
   ],
   "source": [
    "d[2:0:-2]"
   ]
  },
  {
   "cell_type": "code",
   "execution_count": 68,
   "id": "d31b8585",
   "metadata": {},
   "outputs": [
    {
     "data": {
      "text/plain": [
       "[203, 20, 'Hyderabad', 45, True, False, 78, 175, 34.9]"
      ]
     },
     "execution_count": 68,
     "metadata": {},
     "output_type": "execute_result"
    }
   ],
   "source": [
    "d.insert(1,20)\n",
    "d"
   ]
  },
  {
   "cell_type": "code",
   "execution_count": 69,
   "id": "eb262ff4",
   "metadata": {},
   "outputs": [
    {
     "data": {
      "text/plain": [
       "[203, 20, 'Hyderabad', 45, True, False, 78, 175, 34.9, 90]"
      ]
     },
     "execution_count": 69,
     "metadata": {},
     "output_type": "execute_result"
    }
   ],
   "source": [
    "d.append(90)\n",
    "d"
   ]
  },
  {
   "cell_type": "code",
   "execution_count": 70,
   "id": "546edab4",
   "metadata": {},
   "outputs": [
    {
     "data": {
      "text/plain": [
       "1"
      ]
     },
     "execution_count": 70,
     "metadata": {},
     "output_type": "execute_result"
    }
   ],
   "source": [
    "d.count(90)"
   ]
  },
  {
   "cell_type": "code",
   "execution_count": 71,
   "id": "57cb34e7",
   "metadata": {},
   "outputs": [
    {
     "data": {
      "text/plain": [
       "[203, 20, 'Hyderabad', 45, True, False, 175, 34.9, 90]"
      ]
     },
     "execution_count": 71,
     "metadata": {},
     "output_type": "execute_result"
    }
   ],
   "source": [
    "d.remove(78)\n",
    "d"
   ]
  },
  {
   "cell_type": "code",
   "execution_count": 72,
   "id": "77311e65",
   "metadata": {},
   "outputs": [
    {
     "data": {
      "text/plain": [
       "(90, 70, 50, 30, 20)"
      ]
     },
     "execution_count": 72,
     "metadata": {},
     "output_type": "execute_result"
    }
   ],
   "source": [
    "h= (90,70,50,30,20)\n",
    "h"
   ]
  },
  {
   "cell_type": "code",
   "execution_count": 73,
   "id": "7c1d02fb",
   "metadata": {},
   "outputs": [
    {
     "data": {
      "text/plain": [
       "90"
      ]
     },
     "execution_count": 73,
     "metadata": {},
     "output_type": "execute_result"
    }
   ],
   "source": [
    "h[0]"
   ]
  },
  {
   "cell_type": "code",
   "execution_count": 74,
   "id": "a4dc0d69",
   "metadata": {},
   "outputs": [
    {
     "data": {
      "text/plain": [
       "1"
      ]
     },
     "execution_count": 74,
     "metadata": {},
     "output_type": "execute_result"
    }
   ],
   "source": [
    "h.count(90)"
   ]
  },
  {
   "cell_type": "code",
   "execution_count": 75,
   "id": "cc4b761f",
   "metadata": {},
   "outputs": [
    {
     "data": {
      "text/plain": [
       "3"
      ]
     },
     "execution_count": 75,
     "metadata": {},
     "output_type": "execute_result"
    }
   ],
   "source": [
    "h.index(30)"
   ]
  },
  {
   "cell_type": "code",
   "execution_count": 76,
   "id": "68d4e5ed",
   "metadata": {},
   "outputs": [
    {
     "data": {
      "text/plain": [
       "{21, 34, 43, 45, 67, 87, 90, 98, 600}"
      ]
     },
     "execution_count": 76,
     "metadata": {},
     "output_type": "execute_result"
    }
   ],
   "source": [
    "s={45,34,67,98,90,43,21,87,600,600,600}\n",
    "s"
   ]
  },
  {
   "cell_type": "code",
   "execution_count": 77,
   "id": "81ff4ca0",
   "metadata": {},
   "outputs": [
    {
     "data": {
      "text/plain": [
       "set"
      ]
     },
     "execution_count": 77,
     "metadata": {},
     "output_type": "execute_result"
    }
   ],
   "source": [
    "type(s)"
   ]
  },
  {
   "cell_type": "code",
   "execution_count": 78,
   "id": "baaba34a",
   "metadata": {},
   "outputs": [
    {
     "data": {
      "text/plain": [
       "{21, 43, 45, 67, 87, 90, 98, 600}"
      ]
     },
     "execution_count": 78,
     "metadata": {},
     "output_type": "execute_result"
    }
   ],
   "source": [
    "s.remove(34)\n",
    "s"
   ]
  },
  {
   "cell_type": "code",
   "execution_count": 79,
   "id": "7feefcea",
   "metadata": {
    "scrolled": true
   },
   "outputs": [
    {
     "data": {
      "text/plain": [
       "{10, 12, 30, 50, 60, 67, 80, 90}"
      ]
     },
     "execution_count": 79,
     "metadata": {},
     "output_type": "execute_result"
    }
   ],
   "source": [
    "y={12,10,30,90,67,50,60,80}\n",
    "y"
   ]
  },
  {
   "cell_type": "code",
   "execution_count": 80,
   "id": "1350fe4a",
   "metadata": {},
   "outputs": [
    {
     "data": {
      "text/plain": [
       "{67, 90}"
      ]
     },
     "execution_count": 80,
     "metadata": {},
     "output_type": "execute_result"
    }
   ],
   "source": [
    "s.intersection(y)"
   ]
  },
  {
   "cell_type": "code",
   "execution_count": 81,
   "id": "3f5257de",
   "metadata": {},
   "outputs": [
    {
     "data": {
      "text/plain": [
       "{10, 12, 21, 30, 43, 45, 50, 60, 67, 80, 87, 90, 98, 600}"
      ]
     },
     "execution_count": 81,
     "metadata": {},
     "output_type": "execute_result"
    }
   ],
   "source": [
    "s.union(y)"
   ]
  },
  {
   "cell_type": "code",
   "execution_count": 82,
   "id": "b4edde44",
   "metadata": {},
   "outputs": [
    {
     "data": {
      "text/plain": [
       "{21, 43, 45, 87, 98, 600}"
      ]
     },
     "execution_count": 82,
     "metadata": {},
     "output_type": "execute_result"
    }
   ],
   "source": [
    "s.difference(y)"
   ]
  },
  {
   "cell_type": "code",
   "execution_count": 83,
   "id": "70345f38",
   "metadata": {},
   "outputs": [
    {
     "data": {
      "text/plain": [
       "{10, 12, 30, 50, 60, 80}"
      ]
     },
     "execution_count": 83,
     "metadata": {},
     "output_type": "execute_result"
    }
   ],
   "source": [
    "y.difference(s)"
   ]
  },
  {
   "cell_type": "code",
   "execution_count": 84,
   "id": "3f5eb7f6",
   "metadata": {},
   "outputs": [
    {
     "data": {
      "text/plain": [
       "{10, 12, 21, 30, 43, 45, 50, 60, 67, 80, 87, 90, 98, 600}"
      ]
     },
     "execution_count": 84,
     "metadata": {},
     "output_type": "execute_result"
    }
   ],
   "source": [
    "y.union(s)"
   ]
  },
  {
   "cell_type": "code",
   "execution_count": 85,
   "id": "afe22cd7",
   "metadata": {},
   "outputs": [
    {
     "data": {
      "text/plain": [
       "{67, 90}"
      ]
     },
     "execution_count": 85,
     "metadata": {},
     "output_type": "execute_result"
    }
   ],
   "source": [
    "y.intersection(s)"
   ]
  },
  {
   "cell_type": "code",
   "execution_count": 87,
   "id": "147fd9de",
   "metadata": {},
   "outputs": [
    {
     "data": {
      "text/plain": [
       "[203, 20, 'Hyderabad', 45, True, False, 175, 34.9, 90]"
      ]
     },
     "execution_count": 87,
     "metadata": {},
     "output_type": "execute_result"
    }
   ],
   "source": [
    "d"
   ]
  },
  {
   "cell_type": "code",
   "execution_count": 89,
   "id": "788cc786",
   "metadata": {},
   "outputs": [
    {
     "data": {
      "text/plain": [
       "{101: 200,\n",
       " 102: 600,\n",
       " 103: 'India',\n",
       " 106: 4000,\n",
       " 107: 'India',\n",
       " 104: [1000, 5000, 6000, 7000]}"
      ]
     },
     "execution_count": 89,
     "metadata": {},
     "output_type": "execute_result"
    }
   ],
   "source": [
    "d={101: 200,\n",
    "102: 600,\n",
    "103: 'India',\n",
    "106: 4000,\n",
    " 107: 'India',\n",
    " 104: [1000, 5000, 6000, 7000]}\n",
    "d"
   ]
  },
  {
   "cell_type": "code",
   "execution_count": 90,
   "id": "23ad489b",
   "metadata": {},
   "outputs": [
    {
     "data": {
      "text/plain": [
       "str"
      ]
     },
     "execution_count": 90,
     "metadata": {},
     "output_type": "execute_result"
    }
   ],
   "source": [
    "type(d[107])"
   ]
  },
  {
   "cell_type": "code",
   "execution_count": 103,
   "id": "50a2f806",
   "metadata": {},
   "outputs": [
    {
     "data": {
      "text/plain": [
       "{101: 200,\n",
       " 102: 600,\n",
       " 103: (30, 40, 50, 60, 70),\n",
       " 106: 4000,\n",
       " 107: 'India',\n",
       " 104: [1000, 5000, 6000, 7000, 560, 560]}"
      ]
     },
     "execution_count": 103,
     "metadata": {},
     "output_type": "execute_result"
    }
   ],
   "source": [
    "d.update({103:(30,40,50,60,70)})\n",
    "d"
   ]
  },
  {
   "cell_type": "code",
   "execution_count": 105,
   "id": "50b87146",
   "metadata": {},
   "outputs": [],
   "source": [
    "#STRING FUNCTIONS"
   ]
  },
  {
   "cell_type": "code",
   "execution_count": 102,
   "id": "67c59ef5",
   "metadata": {},
   "outputs": [
    {
     "data": {
      "text/plain": [
       "'india'"
      ]
     },
     "execution_count": 102,
     "metadata": {},
     "output_type": "execute_result"
    }
   ],
   "source": [
    "a= 'india'\n",
    "a"
   ]
  },
  {
   "cell_type": "code",
   "execution_count": 94,
   "id": "792fdd83",
   "metadata": {},
   "outputs": [
    {
     "data": {
      "text/plain": [
       "'INDIA'"
      ]
     },
     "execution_count": 94,
     "metadata": {},
     "output_type": "execute_result"
    }
   ],
   "source": [
    "a.upper()"
   ]
  },
  {
   "cell_type": "code",
   "execution_count": 95,
   "id": "aaf68e5d",
   "metadata": {},
   "outputs": [
    {
     "data": {
      "text/plain": [
       "False"
      ]
     },
     "execution_count": 95,
     "metadata": {},
     "output_type": "execute_result"
    }
   ],
   "source": [
    "a.isdigit()"
   ]
  },
  {
   "cell_type": "code",
   "execution_count": 96,
   "id": "34950ad6",
   "metadata": {},
   "outputs": [
    {
     "data": {
      "text/plain": [
       "'India'"
      ]
     },
     "execution_count": 96,
     "metadata": {},
     "output_type": "execute_result"
    }
   ],
   "source": [
    "d[107]"
   ]
  },
  {
   "cell_type": "code",
   "execution_count": 108,
   "id": "05907b5d",
   "metadata": {},
   "outputs": [
    {
     "data": {
      "text/plain": [
       "'india'"
      ]
     },
     "execution_count": 108,
     "metadata": {},
     "output_type": "execute_result"
    }
   ],
   "source": [
    "d[107].lower()"
   ]
  },
  {
   "cell_type": "code",
   "execution_count": 109,
   "id": "69dbfcef",
   "metadata": {},
   "outputs": [
    {
     "data": {
      "text/plain": [
       "'india'"
      ]
     },
     "execution_count": 109,
     "metadata": {},
     "output_type": "execute_result"
    }
   ],
   "source": [
    "d[107].lower()"
   ]
  },
  {
   "cell_type": "code",
   "execution_count": 107,
   "id": "76ff75ff",
   "metadata": {},
   "outputs": [],
   "source": [
    "#LIST FUNCTIONS"
   ]
  },
  {
   "cell_type": "code",
   "execution_count": 101,
   "id": "57a14f81",
   "metadata": {},
   "outputs": [
    {
     "data": {
      "text/plain": [
       "{101: 200,\n",
       " 102: 600,\n",
       " 103: (30, 40, 50, 60, 70),\n",
       " 106: 4000,\n",
       " 107: 'India',\n",
       " 104: [1000, 5000, 6000, 7000, 560, 560]}"
      ]
     },
     "execution_count": 101,
     "metadata": {},
     "output_type": "execute_result"
    }
   ],
   "source": [
    "d[104].append(560)\n",
    "d"
   ]
  },
  {
   "cell_type": "code",
   "execution_count": 110,
   "id": "0b0313fa",
   "metadata": {},
   "outputs": [
    {
     "data": {
      "text/plain": [
       "list"
      ]
     },
     "execution_count": 110,
     "metadata": {},
     "output_type": "execute_result"
    }
   ],
   "source": [
    "type(d[104])"
   ]
  },
  {
   "cell_type": "code",
   "execution_count": 111,
   "id": "97eda4fe",
   "metadata": {},
   "outputs": [
    {
     "data": {
      "text/plain": [
       "1"
      ]
     },
     "execution_count": 111,
     "metadata": {},
     "output_type": "execute_result"
    }
   ],
   "source": [
    "d[104].count(5000)"
   ]
  },
  {
   "cell_type": "code",
   "execution_count": 112,
   "id": "98cba1e7",
   "metadata": {},
   "outputs": [
    {
     "data": {
      "text/plain": [
       "[1000, 5000, 6000, 7000, 560, 560]"
      ]
     },
     "execution_count": 112,
     "metadata": {},
     "output_type": "execute_result"
    }
   ],
   "source": [
    "d[104]"
   ]
  },
  {
   "cell_type": "code",
   "execution_count": 117,
   "id": "a309779c",
   "metadata": {},
   "outputs": [],
   "source": [
    "d[104].insert(2,5500)"
   ]
  },
  {
   "cell_type": "code",
   "execution_count": 115,
   "id": "7d407fb7",
   "metadata": {},
   "outputs": [],
   "source": [
    "d.update({103:(30,40,50,70)})"
   ]
  },
  {
   "cell_type": "code",
   "execution_count": 118,
   "id": "607fbedf",
   "metadata": {},
   "outputs": [
    {
     "data": {
      "text/plain": [
       "{101: 200,\n",
       " 102: 600,\n",
       " 103: (30, 40, 50, 70),\n",
       " 106: 4000,\n",
       " 107: 'India',\n",
       " 104: [1000, 5000, 5500, 5500, 6000, 7000, 560, 560]}"
      ]
     },
     "execution_count": 118,
     "metadata": {},
     "output_type": "execute_result"
    }
   ],
   "source": [
    "d"
   ]
  },
  {
   "cell_type": "code",
   "execution_count": 116,
   "id": "c914a778",
   "metadata": {},
   "outputs": [
    {
     "data": {
      "text/plain": [
       "{101: 200,\n",
       " 102: 600,\n",
       " 103: (30, 40, 50, 70),\n",
       " 106: 4000,\n",
       " 107: 'India',\n",
       " 104: [1000, 5000, 5500, 6000, 7000, 560, 560]}"
      ]
     },
     "execution_count": 116,
     "metadata": {},
     "output_type": "execute_result"
    }
   ],
   "source": [
    "d\n"
   ]
  },
  {
   "cell_type": "code",
   "execution_count": 119,
   "id": "116a5955",
   "metadata": {},
   "outputs": [
    {
     "data": {
      "text/plain": [
       "tuple"
      ]
     },
     "execution_count": 119,
     "metadata": {},
     "output_type": "execute_result"
    }
   ],
   "source": [
    "type(d[103])"
   ]
  },
  {
   "cell_type": "code",
   "execution_count": 128,
   "id": "0c69847c",
   "metadata": {},
   "outputs": [],
   "source": [
    "d[101]={50:[7,8,9,10],'apple':(20,10,70,[90,180,270])}"
   ]
  },
  {
   "cell_type": "code",
   "execution_count": 129,
   "id": "e83b02af",
   "metadata": {
    "scrolled": true
   },
   "outputs": [
    {
     "data": {
      "text/plain": [
       "{101: {50: [7, 8, 9, 10], 'apple': (20, 10, 70, [90, 180, 270])},\n",
       " 102: 600,\n",
       " 103: (30, 40, 50, 70),\n",
       " 106: 4000,\n",
       " 107: 'India',\n",
       " 104: [1000, 5000, 5500, 5500, 6000, 7000, 560, 560],\n",
       " 105: {'a': {30, 40, 50, 70},\n",
       "  'b': (1000, 5000, 7000, 9000),\n",
       "  'c': ['K', {'L': [11, 22], 'M': (77, 88)}, 'N']}}"
      ]
     },
     "execution_count": 129,
     "metadata": {},
     "output_type": "execute_result"
    }
   ],
   "source": [
    "d\n"
   ]
  },
  {
   "cell_type": "code",
   "execution_count": 126,
   "id": "0126f2d9",
   "metadata": {},
   "outputs": [],
   "source": [
    "d[105]={'a':{30,40,50,70},'b':(1000,5000,7000,9000),'c':['K',{'L':[11,22],'M':(77,88)},'N']}"
   ]
  },
  {
   "cell_type": "code",
   "execution_count": 127,
   "id": "00aa0ee9",
   "metadata": {},
   "outputs": [
    {
     "data": {
      "text/plain": [
       "{101: 200,\n",
       " 102: 600,\n",
       " 103: (30, 40, 50, 70),\n",
       " 106: 4000,\n",
       " 107: 'India',\n",
       " 104: [1000, 5000, 5500, 5500, 6000, 7000, 560, 560],\n",
       " 105: {'a': {30, 40, 50, 70},\n",
       "  'b': (1000, 5000, 7000, 9000),\n",
       "  'c': ['K', {'L': [11, 22], 'M': (77, 88)}, 'N']}}"
      ]
     },
     "execution_count": 127,
     "metadata": {},
     "output_type": "execute_result"
    }
   ],
   "source": [
    "d"
   ]
  },
  {
   "cell_type": "code",
   "execution_count": 130,
   "id": "832d9bb9",
   "metadata": {},
   "outputs": [
    {
     "data": {
      "text/plain": [
       "180"
      ]
     },
     "execution_count": 130,
     "metadata": {},
     "output_type": "execute_result"
    }
   ],
   "source": [
    "d[101]['apple'][3][1]"
   ]
  },
  {
   "cell_type": "code",
   "execution_count": 132,
   "id": "823f991d",
   "metadata": {},
   "outputs": [
    {
     "data": {
      "text/plain": [
       "7000"
      ]
     },
     "execution_count": 132,
     "metadata": {},
     "output_type": "execute_result"
    }
   ],
   "source": [
    "d[105]['b'][2]"
   ]
  },
  {
   "cell_type": "code",
   "execution_count": 135,
   "id": "84fab614",
   "metadata": {},
   "outputs": [
    {
     "data": {
      "text/plain": [
       "70"
      ]
     },
     "execution_count": 135,
     "metadata": {},
     "output_type": "execute_result"
    }
   ],
   "source": [
    "d[103][3]"
   ]
  },
  {
   "cell_type": "code",
   "execution_count": 140,
   "id": "b5b0b914",
   "metadata": {},
   "outputs": [
    {
     "data": {
      "text/plain": [
       "88"
      ]
     },
     "execution_count": 140,
     "metadata": {},
     "output_type": "execute_result"
    }
   ],
   "source": [
    "d[105]['c'][1]['M'][1]"
   ]
  },
  {
   "cell_type": "code",
   "execution_count": null,
   "id": "ac6dc7e7",
   "metadata": {},
   "outputs": [],
   "source": []
  }
 ],
 "metadata": {
  "kernelspec": {
   "display_name": "Python 3 (ipykernel)",
   "language": "python",
   "name": "python3"
  },
  "language_info": {
   "codemirror_mode": {
    "name": "ipython",
    "version": 3
   },
   "file_extension": ".py",
   "mimetype": "text/x-python",
   "name": "python",
   "nbconvert_exporter": "python",
   "pygments_lexer": "ipython3",
   "version": "3.11.5"
  }
 },
 "nbformat": 4,
 "nbformat_minor": 5
}
