{
 "cells": [
  {
   "cell_type": "raw",
   "id": "51bcfcf0-ddcd-4204-bc5c-4889f773586c",
   "metadata": {},
   "source": [
    "if con1:\n",
    "    task1 block of data\n",
    "elif con2:\n",
    "    task2 block of code\n",
    "elif con3:\n",
    "    task3 block of code\n",
    ".\n",
    ".\n",
    ".\n",
    ".\n",
    ".\n",
    ".\n",
    "elif con n:\n",
    "    task n \n",
    "else:\n",
    "    task4 block of code"
   ]
  },
  {
   "cell_type": "code",
   "execution_count": 1,
   "id": "12f75342-fa4e-4c1f-9ff9-f73123da01ec",
   "metadata": {},
   "outputs": [
    {
     "name": "stdout",
     "output_type": "stream",
     "text": [
      "odd\n"
     ]
    }
   ],
   "source": [
    "x =9\n",
    "if x%2 ==0:\n",
    "    print(\"Even\")\n",
    "else:\n",
    "    print(\"odd\")"
   ]
  },
  {
   "cell_type": "code",
   "execution_count": 2,
   "id": "fbe3232d-6ee4-477e-b62f-356e900247f6",
   "metadata": {},
   "outputs": [],
   "source": [
    "x=8"
   ]
  },
  {
   "cell_type": "code",
   "execution_count": 3,
   "id": "a32a6a3b-c500-467a-888a-dcc575150bb5",
   "metadata": {},
   "outputs": [
    {
     "data": {
      "text/plain": [
       "True"
      ]
     },
     "execution_count": 3,
     "metadata": {},
     "output_type": "execute_result"
    }
   ],
   "source": [
    "x%2==0"
   ]
  },
  {
   "cell_type": "code",
   "execution_count": 4,
   "id": "245e5264-2606-43d9-80d3-89db9e009bdc",
   "metadata": {},
   "outputs": [
    {
     "data": {
      "text/plain": [
       "True"
      ]
     },
     "execution_count": 4,
     "metadata": {},
     "output_type": "execute_result"
    }
   ],
   "source": [
    "x>6"
   ]
  },
  {
   "cell_type": "raw",
   "id": "d2b87dc1-6907-46ba-9ec5-86a5a106e0b5",
   "metadata": {},
   "source": [
    "wap to know number is positive negative or zero"
   ]
  },
  {
   "cell_type": "code",
   "execution_count": 9,
   "id": "1a2f4912-b1b6-48f3-8c96-6aa54c7468f2",
   "metadata": {},
   "outputs": [
    {
     "name": "stdout",
     "output_type": "stream",
     "text": [
      "negative\n"
     ]
    }
   ],
   "source": [
    "x=-5.8\n",
    "if x>0:\n",
    "    print(\"positive\")\n",
    "elif x<0:\n",
    "    print(\"negative\")\n",
    "else:\n",
    "    print(\"Zero\")"
   ]
  },
  {
   "cell_type": "code",
   "execution_count": 8,
   "id": "c9fa9594-23c4-4d99-afd8-de5a0fba0f66",
   "metadata": {},
   "outputs": [
    {
     "name": "stdout",
     "output_type": "stream",
     "text": [
      "positive\n",
      "K\n"
     ]
    }
   ],
   "source": [
    "x= 6\n",
    "if x>0:\n",
    "    print(\"positive\")\n",
    "    if x>10:\n",
    "        print(\"M\")\n",
    "    elif x<10:\n",
    "        print(\"K\")\n",
    "    else:\n",
    "        print(\"T\")\n",
    "elif x<0:\n",
    "    print(\"negative\")\n",
    "else:\n",
    "    print(\"Zero\")"
   ]
  },
  {
   "cell_type": "code",
   "execution_count": 20,
   "id": "847f55bf-4dd5-48ef-bd8b-800935eef70c",
   "metadata": {},
   "outputs": [
    {
     "name": "stdin",
     "output_type": "stream",
     "text": [
      " 10.5\n"
     ]
    },
    {
     "name": "stdout",
     "output_type": "stream",
     "text": [
      "pos\n",
      "P\n"
     ]
    }
   ],
   "source": [
    "x=float(input())\n",
    "if x>0:\n",
    "    print('pos')\n",
    "    if x>20:\n",
    "        print('M')\n",
    "    elif x>10:\n",
    "        print('P')\n",
    "    elif x<10:\n",
    "        print('K')\n",
    "    else:\n",
    "        print('T')\n",
    "elif x<0:\n",
    "    print('neg')\n",
    "    if x<-20:\n",
    "        print('Q')\n",
    "    elif x>-10:\n",
    "        print('C')\n",
    "    elif x>-30:\n",
    "        print('Z')\n",
    "else:\n",
    "    print('zero')\n",
    "    "
   ]
  },
  {
   "cell_type": "code",
   "execution_count": 21,
   "id": "c824aaad-7ed9-4c03-a4e1-d04e2d9ae44f",
   "metadata": {},
   "outputs": [
    {
     "name": "stdout",
     "output_type": "stream",
     "text": [
      "M\n"
     ]
    }
   ],
   "source": [
    "y=10\n",
    "if y>5:\n",
    "    print(\"M\")\n",
    "elif y>4:\n",
    "    print(\"K\")\n",
    "elif y>7:\n",
    "    print(\"H\")\n",
    "else:\n",
    "    print(\"O\")"
   ]
  },
  {
   "cell_type": "code",
   "execution_count": 31,
   "id": "9e5fca87-30ad-4d29-86eb-18a3d6503d28",
   "metadata": {},
   "outputs": [],
   "source": [
    "x = 'telangana'\n",
    "x = 'Tiger'\n",
    "x = 'Tan'"
   ]
  },
  {
   "cell_type": "code",
   "execution_count": 32,
   "id": "c5c31fd6-0756-47d9-b2fb-04a5f3cde750",
   "metadata": {},
   "outputs": [],
   "source": [
    "x ='lion'\n",
    "x ='mumbai'"
   ]
  },
  {
   "cell_type": "code",
   "execution_count": 33,
   "id": "7488e635-8753-4b6a-a0e4-f06293689a09",
   "metadata": {},
   "outputs": [
    {
     "name": "stdout",
     "output_type": "stream",
     "text": [
      "Yes\n"
     ]
    }
   ],
   "source": [
    "x ='tiger'\n",
    "if x[0] =='t' or x[0]=='T':\n",
    "    print(\"Yes\")\n",
    "else:\n",
    "    print(\"No\")\n",
    "    "
   ]
  },
  {
   "cell_type": "markdown",
   "id": "7ccd1efc-2ae2-4582-88ca-69a4653506d9",
   "metadata": {},
   "source": [
    "# ASSIGNMENT-6"
   ]
  },
  {
   "cell_type": "code",
   "execution_count": 46,
   "id": "3abe331e-443b-4bec-9174-105b846faca6",
   "metadata": {},
   "outputs": [
    {
     "name": "stdin",
     "output_type": "stream",
     "text": [
      " fun\n"
     ]
    },
    {
     "name": "stdout",
     "output_type": "stream",
     "text": [
      "NO\n"
     ]
    }
   ],
   "source": [
    "x =input()\n",
    "if x[0] == 's' or x[0] == 't' or x[0]=='m' or x[0]==\"T\" or x[0]==\"S\"or x[0]==\"M\" :\n",
    "    print(\"Yes\")\n",
    "else:\n",
    "    print(\"NO\")"
   ]
  },
  {
   "cell_type": "code",
   "execution_count": 54,
   "id": "eaeb7424-211b-45d5-9f73-0bab693d3016",
   "metadata": {},
   "outputs": [
    {
     "name": "stdin",
     "output_type": "stream",
     "text": [
      " horse\n"
     ]
    },
    {
     "name": "stdout",
     "output_type": "stream",
     "text": [
      "No\n"
     ]
    }
   ],
   "source": [
    "x =input()\n",
    "if x[0].lower() in ('t','s','m'):\n",
    "    print(\"Yes\")\n",
    "else:\n",
    "    print(\"No\")"
   ]
  },
  {
   "cell_type": "code",
   "execution_count": 1,
   "id": "ca73533a-6851-4fa6-8e15-881bcea1129d",
   "metadata": {},
   "outputs": [
    {
     "name": "stdin",
     "output_type": "stream",
     "text": [
      " train\n"
     ]
    },
    {
     "name": "stdout",
     "output_type": "stream",
     "text": [
      "Yes\n"
     ]
    }
   ],
   "source": [
    "x =input()\n",
    "if x[0].lower() in ('t','s','m'):\n",
    "    print(\"Yes\")\n",
    "else:\n",
    "    print(\"No\")"
   ]
  },
  {
   "cell_type": "code",
   "execution_count": null,
   "id": "99589b80-2b91-427d-86e5-3c506cde566f",
   "metadata": {},
   "outputs": [],
   "source": []
  }
 ],
 "metadata": {
  "kernelspec": {
   "display_name": "Python 3 (ipykernel)",
   "language": "python",
   "name": "python3"
  },
  "language_info": {
   "codemirror_mode": {
    "name": "ipython",
    "version": 3
   },
   "file_extension": ".py",
   "mimetype": "text/x-python",
   "name": "python",
   "nbconvert_exporter": "python",
   "pygments_lexer": "ipython3",
   "version": "3.12.7"
  }
 },
 "nbformat": 4,
 "nbformat_minor": 5
}
